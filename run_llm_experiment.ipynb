{
  "nbformat": 4,
  "nbformat_minor": 0,
  "metadata": {
    "colab": {
      "provenance": []
    },
    "kernelspec": {
      "name": "python3",
      "display_name": "Python 3"
    },
    "language_info": {
      "name": "python"
    }
  },
  "cells": [
    {
      "cell_type": "markdown",
      "source": [
        "## Initial setup"
      ],
      "metadata": {
        "id": "xKV7uF0A3qIR"
      }
    },
    {
      "cell_type": "code",
      "source": [
        "import os\n",
        "import json\n",
        "from openai import OpenAI\n",
        "\n",
        "# Configuration\n",
        "os.environ['OPENAI_API_KEY'] = \"YOUR-API-KEY\"\n",
        "\n",
        "client = OpenAI(\n",
        "  organization='YOUR-ORG-KEY',\n",
        "  project='YOUR-PROJECT-KEY',\n",
        ")"
      ],
      "metadata": {
        "id": "YNpXKtFL2qKg"
      },
      "execution_count": null,
      "outputs": []
    },
    {
      "cell_type": "markdown",
      "source": [
        "## Read in domain questions from human results csv to build personas"
      ],
      "metadata": {
        "id": "5hSD9oeC3s7d"
      }
    },
    {
      "cell_type": "code",
      "source": [
        "import pandas as pd\n",
        "\n",
        "# Read the CSV\n",
        "df = pd.read_csv(\"./human_results.csv\", keep_default_na=False, na_values=[])\n",
        "\n",
        "# Select columns 2–4 (indexing starts at 0 so cols 1:4)\n",
        "subset = df.iloc[:, 0:3]\n",
        "\n",
        "# Replace any real NaN (just in case) with \"\"\n",
        "subset = subset.fillna(\"\")\n",
        "\n",
        "# Build dictionary P1–P23\n",
        "persona_data = {f\"P{i+1}\": tuple(subset.iloc[i]) for i in range(min(23, len(subset)))}\n",
        "\n",
        "# Print nicely with newlines\n",
        "for k, v in persona_data.items():\n",
        "    print(f\"{k}: {v}\")"
      ],
      "metadata": {
        "id": "1hUGrNgw2tjN"
      },
      "execution_count": null,
      "outputs": []
    },
    {
      "cell_type": "code",
      "source": [
        "persona_dict = {}\n",
        "for k, v in persona_data.items():\n",
        "\n",
        "  # first question\n",
        "  if v[0] == 'No':\n",
        "    first = 'does not'\n",
        "  else: # 'Yes'\n",
        "    first = 'does'\n",
        "\n",
        "  # second question\n",
        "  if v[1] == 'No':\n",
        "    second = 'does not'\n",
        "  else: # 'Yes'\n",
        "    second = 'does'\n",
        "\n",
        "  # third question\n",
        "  if v[2] == 'Legal':\n",
        "    third = 'has legal expertise'\n",
        "  if v[2] == 'Medical':\n",
        "    third = 'has medical expertise'\n",
        "  if v[2] == 'None':\n",
        "    third = 'does not have legal or medical expertise'\n",
        "\n",
        "  persona_dict[k] = f\"Respond as a person who {first} work in automatic speech recognition technology, {second} work in STEM (science, technology engineering, mathematics), and {third}. Respond only with the letter for the answer choice.\"\n",
        "\n",
        "# Print nicely with newlines\n",
        "for k, v in persona_dict.items():\n",
        "    print(f\"{k}: {v}\")"
      ],
      "metadata": {
        "id": "-H0MXX6o4KqF"
      },
      "execution_count": null,
      "outputs": []
    },
    {
      "cell_type": "markdown",
      "source": [
        "# Prepare SpeechSpectrum data for experiment"
      ],
      "metadata": {
        "id": "6qbw3hTD3xoA"
      }
    },
    {
      "cell_type": "code",
      "source": [
        "page_legal = \"\"\"\n",
        "(A) VERBATIM: Well, I, I remember that day pretty clearly because, um, it was raining really hard and, and I was driving to work around, oh, maybe seven-thirty in the morning? And, uh, I was going down Main Street when I saw, I saw this car, a blue sedan I think it was, come speeding through the intersection without, without stopping at the red light. And then, then there was this loud crash sound and I, I pulled over to see what happened. The, the driver of the blue car, he got out and he was, he was yelling something but I couldn't really hear what he was saying because of the rain and, and all the commo –  commotion. Actually, wait, I think it was a Honda, no, maybe a Toyota, I'm not sure about the make.\n",
        "\n",
        "(B) NON-VERBATIM: I remember that day pretty clearly because it was raining really hard and I was driving to work around seven-thirty in the morning. I was going down Main Street when I saw this car, a blue sedan, come speeding through the intersection without stopping at the red light. Then there was this loud crash sound and I pulled over to see what happened. The driver of the blue car got out and he was yelling something but I couldn't really hear what he was saying because of the rain and all the commotion. I think it was a Honda, maybe a Toyota, I'm not sure about the make.\n",
        "\n",
        "(C) ENHANCED: I clearly remember that day because it was raining heavily and I was driving to work around 7:30 AM. I was going down Main Street when I observed a blue sedan speed through the intersection without stopping at the red light. Following the crash, I pulled over to assess the situation. The driver of the blue car exited and was shouting, but I could not hear clearly due to the rain and commotion. I believe it was a Honda or Toyota, though I am uncertain of the exact make.\n",
        "\n",
        "(D) BULLET POINTS:\n",
        "* Incident occurred during heavy rain, ~7:30 AM\n",
        "* Witness driving on Main Street to work\n",
        "* Blue sedan ran red light at high speed\n",
        "* Collision occurred, witness pulled over\n",
        "* Blue car driver exited vehicle, yelling inaudibly\n",
        "\"\"\"\n",
        "\n",
        "page_medical = \"\"\"\n",
        "(A) VERBATIM: Okay, so, um, the patient came in today and, uh, she was complaining of, you know, chest pain that's been going on for about, let's see, um, three days now. And, uh, she said it gets worse when she, when she breathes deeply or, or coughs. So I, I examined her and found some, uh, some tenderness in the, the inter – intercostal muscles on the right side. Her vital signs were, um, let me think, blood pressure was one-twenty over eighty, heart rate was, was seventy-two, and temperature was normal at, uh, ninety-eight point six. I'm thinking this is probably, you know, costochon – costochondritis rather than anything, anything more serious like a cardiac event.\n",
        "\n",
        "(B) NON-VERBATIM: The patient came in today and she was complaining of chest pain that's been going on for about three days now. She said it gets worse when she breathes deeply or coughs. I examined her and found some tenderness in the intercostal muscles on the right side. Her vital signs were blood pressure was one-twenty over eighty, heart rate was seventy-two, and temperature was normal at ninety-eight point six. I'm thinking this is probably costochondritis rather than anything more serious like a cardiac event.\n",
        "\n",
        "(C) ENHANCED: The patient came in today complaining of chest pain that has been ongoing for three days. She reports it worsens with deep breathing and coughing. On examination, I found tenderness in the intercostal muscles on the right side. Vital signs: blood pressure 120/80, heart rate 72, temperature 98.6°F. Assessment is likely costochondritis rather than a cardiac event.\n",
        "\n",
        "(D) BULLET POINTS:\n",
        "* Patient: 3-day chest pain history\n",
        "* Triggers: deep breathing, coughing\n",
        "* Physical findings: right intercostal tenderness\n",
        "* Vitals: BP 120/80, HR 72, temp 98.6°F\n",
        "* Diagnosis: likely costochondritis vs cardiac\n",
        "\"\"\"\n",
        "\n",
        "page_business = \"\"\"\n",
        "(A) VERBATIM: So, um, we need to talk about the quarterly numbers and, and where we stand with the project timeline. I know, I know we've been behind schedule but, but Sarah's team has been working really hard on the, the user interface redesign. And, uh, Mike, didn't you say something about the database issues being, being mostly resolved now? Or was that the ser – server issues? No, database, right. I think, I think we're in a much better position than we were last month but we still need to, to figure out the budget allocation for the next quarter and, and maybe hire one or two more developers if, if we want to meet the December deadline. Actually, was it December or January? I think December.\n",
        "\n",
        "(B) NON-VERBATIM: We need to talk about the quarterly numbers and where we stand with the project timeline. I know we've been behind schedule but Sarah's team has been working really hard on the user interface redesign. Mike, didn't you say something about the database issues being mostly resolved now? I think we're in a much better position than we were last month but we still need to figure out the budget allocation for the next quarter and maybe hire one or two more developers if we want to meet the December deadline.\n",
        "\n",
        "(C) ENHANCED: We need to discuss the quarterly numbers and our current position on the project timeline. We have been behind schedule, but Sarah's team has been working hard on the user interface redesign. Mike mentioned that the database issues are mostly resolved. We are in a better position than last month, but we still need to determine budget allocation for next quarter and consider hiring additional developers to meet the December deadline.\n",
        "\n",
        "(D) BULLET POINTS:\n",
        "* Review quarterly numbers & project timeline\n",
        "* Behind schedule but UI redesign progressing well\n",
        "* Database issues mostly resolved\n",
        "* Improved position vs. last month\n",
        "* Action items: budget allocation, potential hiring for December deadline\n",
        "\"\"\"\n",
        "\n",
        "survey_questions = {\n",
        "    \"Q1\": \"Imagine you are a case judge reading through a deposition transcript. Which version of the transcript (i.e. point) is the most helpful for you to answer the following question: Did the defendant seem confident about the details of the crash?\" + \" \" + page_legal,\n",
        "    \"Q2\": \"Imagine you are a case judge reading through a deposition transcript. Which version of the transcript (i.e. point) is the most helpful for you to answer the following question: What were the events leading up to the crash?\" + \" \" + page_legal,\n",
        "    \"Q3\": \"Imagine you are a doctor looking over a triage dictation provided by a nurse. Which version of the transcript (i.e. point) is the most helpful for you to answer the following question: What are the main symptoms the patient is exhibiting?\" + \" \" + page_medical,\n",
        "    \"Q4\": \"Imagine you are a doctor looking over a triage dictation provided by a nurse. Which version of the transcript (i.e. point) is the most helpful for you to answer the following question: Has the chest pain been going on for exactly three days, or could it have been longer/shorter?\" + \" \" + page_medical,\n",
        "    \"Q5\": \"Imagine you are a team leader reading a meeting transcript. Which version of the transcript (i.e. point) is the most helpful for you to answer the following question: Does the team seem like they will meet the December deadline?\" + \" \" + page_business,\n",
        "    \"Q6\": \"Imagine you are a team leader reading a meeting transcript. Which version of the transcript (i.e. point) is the most helpful for you to answer the following question: What are the action items from the meeting?\" + \" \" + page_business\n",
        "}"
      ],
      "metadata": {
        "id": "Mca1BgWB3LXc"
      },
      "execution_count": null,
      "outputs": []
    },
    {
      "cell_type": "markdown",
      "source": [
        "## Run experiment"
      ],
      "metadata": {
        "id": "9PpeMd9-31Zr"
      }
    },
    {
      "cell_type": "code",
      "execution_count": null,
      "metadata": {
        "id": "CmUREFxN9daC"
      },
      "outputs": [],
      "source": [
        "results = []\n",
        "\n",
        "for persona_name, persona_text in persona_dict.items():\n",
        "  for question_name, question_text in survey_questions.items():\n",
        "    for round in [1,2,3]:\n",
        "\n",
        "      # set up input\n",
        "      input_list = [\n",
        "              {\n",
        "                  \"role\": \"developer\",\n",
        "                  \"content\": persona_text\n",
        "              },\n",
        "              {\n",
        "                  \"role\": \"user\",\n",
        "                  \"content\": question_text\n",
        "              }\n",
        "          ]\n",
        "      print(input_list)\n",
        "\n",
        "      # get response\n",
        "      response = client.responses.create(\n",
        "          model=\"gpt-5-mini-2025-08-07\",\n",
        "          input=input_list\n",
        "      )\n",
        "\n",
        "      print(response.output_text)\n",
        "\n",
        "      # save response\n",
        "      results.append({\"persona_name\": persona_name,\n",
        "                      \"question_name\": question_name,\n",
        "                      \"round\": round,\n",
        "                      \"response\": response.output_text\n",
        "                      })\n",
        "\n",
        "      print()"
      ]
    },
    {
      "cell_type": "markdown",
      "source": [
        "# Save experiment results"
      ],
      "metadata": {
        "id": "3toXqqMw34L0"
      }
    },
    {
      "cell_type": "code",
      "source": [
        "# save results to json file\n",
        "with open(\"results.json\", \"w\") as f:\n",
        "    json.dump(results, f, indent=2)\n",
        "\n",
        "# print results\n",
        "print(results)\n",
        "\n",
        "# # to load back later\n",
        "# with open(\"data.json\", \"r\") as f:\n",
        "#     loaded = json.load(f)\n",
        "# print(loaded)\n",
        "\n",
        "import csv\n",
        "\n",
        "# save results to csv file\n",
        "with open(\"results.csv\", \"w\", newline=\"\") as f:\n",
        "    writer = csv.DictWriter(f, fieldnames=results[0].keys())\n",
        "    writer.writeheader()\n",
        "    writer.writerows(results)\n",
        "\n",
        "# # to load back later\n",
        "# with open(\"data.csv\", \"r\") as f:\n",
        "#     reader = csv.DictReader(f)\n",
        "#     loaded = list(reader)"
      ],
      "metadata": {
        "id": "wJzmM1hH93zP"
      },
      "execution_count": null,
      "outputs": []
    }
  ]
}